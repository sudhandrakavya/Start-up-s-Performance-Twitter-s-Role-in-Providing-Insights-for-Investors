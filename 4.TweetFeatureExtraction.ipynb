{
 "cells": [
  {
   "cell_type": "markdown",
   "id": "a7698a66",
   "metadata": {},
   "source": [
    "# Tweet Feature Extraction"
   ]
  },
  {
   "cell_type": "code",
   "execution_count": 23,
   "id": "79f02456",
   "metadata": {},
   "outputs": [],
   "source": [
    "%matplotlib inline\n",
    "import numpy as np\n",
    "import scipy as sp\n",
    "import matplotlib as mpl\n",
    "import matplotlib.cm as cm\n",
    "import matplotlib.pyplot as plt\n",
    "import pandas as pd\n",
    "pd.set_option('display.width', 500)\n",
    "pd.set_option('display.max_columns', 100)\n",
    "pd.set_option('display.notebook_repr_html', True)\n",
    "import seaborn as sns\n",
    "sns.set_style(\"whitegrid\")\n",
    "sns.set_context(\"poster\")\n",
    "from collections import Counter"
   ]
  },
  {
   "cell_type": "code",
   "execution_count": 24,
   "id": "1ac95c32",
   "metadata": {},
   "outputs": [],
   "source": [
    "tweets_csv_data = pd.read_csv(\"tweets.csv\")"
   ]
  },
  {
   "cell_type": "code",
   "execution_count": 25,
   "id": "1a822c60",
   "metadata": {},
   "outputs": [
    {
     "data": {
      "text/plain": [
       "Counter({'_Series_A': 91071,\n",
       "         nan: 113,\n",
       "         '_Series_B': 173305,\n",
       "         '_Series_C': 90223,\n",
       "         '_Series_D': 33135})"
      ]
     },
     "execution_count": 25,
     "metadata": {},
     "output_type": "execute_result"
    }
   ],
   "source": [
    "Counter(tweets_csv_data.Series)"
   ]
  },
  {
   "cell_type": "code",
   "execution_count": 26,
   "id": "3d75aa0c",
   "metadata": {},
   "outputs": [],
   "source": [
    "def get_num_first(text):\n",
    "    try:\n",
    "        return int(text.split()[0])\n",
    "    except:\n",
    "        return 0"
   ]
  },
  {
   "cell_type": "code",
   "execution_count": 27,
   "id": "bc7c8197",
   "metadata": {},
   "outputs": [],
   "source": [
    "likes = tweets_csv_data.apply(lambda row: get_num_first(row[2]), axis=1)\n",
    "retweets = tweets_csv_data.apply(lambda row: get_num_first(row[4]), axis=1)"
   ]
  },
  {
   "cell_type": "code",
   "execution_count": 28,
   "id": "95f21895",
   "metadata": {},
   "outputs": [],
   "source": [
    "from datetime import datetime\n",
    "def get_date(text):\n",
    "    try:\n",
    "        return datetime.date(datetime.strptime(text, '%d %b %Y'))\n",
    "    except:\n",
    "        return 0"
   ]
  },
  {
   "cell_type": "code",
   "execution_count": 29,
   "id": "4bd780fb",
   "metadata": {},
   "outputs": [],
   "source": [
    "dates = tweets_csv_data.apply(lambda row: get_date(row[7]), axis=1)"
   ]
  },
  {
   "cell_type": "code",
   "execution_count": 30,
   "id": "4f51443b",
   "metadata": {},
   "outputs": [],
   "source": [
    "tweets_df = pd.DataFrame({    \n",
    "                  'company_name': tweets_csv_data['Company'], \n",
    "                  'tweeter_href': tweets_csv_data['Href'],\n",
    "                  'likes'       : likes,\n",
    "                  'tweeter_name': tweets_csv_data['Name'],\n",
    "                  'retweets'    : retweets,\n",
    "                  'Series'      : tweets_csv_data['Series'],\n",
    "                  'text'        : tweets_csv_data['Text'],\n",
    "                  'date'        : dates\n",
    "             })"
   ]
  },
  {
   "cell_type": "code",
   "execution_count": 31,
   "id": "4b2d4f6b",
   "metadata": {},
   "outputs": [
    {
     "data": {
      "text/plain": [
       "2202"
      ]
     },
     "execution_count": 31,
     "metadata": {},
     "output_type": "execute_result"
    }
   ],
   "source": [
    "len(tweets_df.company_name.unique())"
   ]
  },
  {
   "cell_type": "code",
   "execution_count": 32,
   "id": "578f273c",
   "metadata": {},
   "outputs": [],
   "source": [
    "tweets_df = tweets_df[tweets_df['text'].notnull()]\n",
    "tweets_df = tweets_df[tweets_df['date'] != 0] "
   ]
  },
  {
   "cell_type": "code",
   "execution_count": 33,
   "id": "540d5b79",
   "metadata": {},
   "outputs": [],
   "source": [
    "tweets_df['text_length'] = tweets_df['text'].apply(lambda text: len(text))"
   ]
  },
  {
   "cell_type": "code",
   "execution_count": 34,
   "id": "6f8dc1ca",
   "metadata": {},
   "outputs": [],
   "source": [
    "tweet_count = tweets_df.groupby(['company_name','Series']).likes.count()"
   ]
  },
  {
   "cell_type": "code",
   "execution_count": 35,
   "id": "411924ed",
   "metadata": {},
   "outputs": [],
   "source": [
    "def get_tags(text):\n",
    "    persontags = []\n",
    "    hashtags = []\n",
    "    links = []\n",
    "    wordlist = text.split()\n",
    "    for word in wordlist:\n",
    "        if len(word) >= 2 and word[0] == '@':\n",
    "            persontags.append(word)\n",
    "        if len(word) >= 2 and word[0] == '#':\n",
    "            hashtags.append(word)\n",
    "        if len(word) >= 5 and word.startswith('http'):\n",
    "            links.append(word)\n",
    "    return {'persontags': persontags, 'hashtags': hashtags, 'links': links}"
   ]
  },
  {
   "cell_type": "code",
   "execution_count": 36,
   "id": "0787a679",
   "metadata": {},
   "outputs": [],
   "source": [
    "tweets_df['persontags'] = tweets_df['text'].apply(lambda text: get_tags(text)['persontags'])\n",
    "tweets_df['hashtags'] = tweets_df['text'].apply(lambda text: get_tags(text)['hashtags'])\n",
    "tweets_df['links'] = tweets_df['text'].apply(lambda text: get_tags(text)['links'])\n",
    "tweets_df['persontags_count'] = tweets_df['text'].apply(lambda text: len(get_tags(text)['persontags']))\n",
    "tweets_df['hashtags_count'] = tweets_df['text'].apply(lambda text: len(get_tags(text)['hashtags']))\n",
    "tweets_df['links_count'] = tweets_df['text'].apply(lambda text: len(get_tags(text)['links']))"
   ]
  },
  {
   "cell_type": "code",
   "execution_count": 37,
   "id": "a9c5b3eb",
   "metadata": {},
   "outputs": [],
   "source": [
    "likes_mean = tweets_df.groupby(['company_name','Series']).likes.mean()\n",
    "retweets_mean = tweets_df.groupby(['company_name','Series']).retweets.mean()"
   ]
  },
  {
   "cell_type": "code",
   "execution_count": 38,
   "id": "b51b4497",
   "metadata": {},
   "outputs": [],
   "source": [
    "tweets_df = tweets_df[tweets_df.text.notnull()]\n",
    "tweets_df = tweets_df[tweets_df.date != 0]"
   ]
  },
  {
   "cell_type": "code",
   "execution_count": 39,
   "id": "69f7d357",
   "metadata": {},
   "outputs": [],
   "source": [
    "tweets_df['text_length'] = [len(text) for text in tweets_df.text]"
   ]
  },
  {
   "cell_type": "code",
   "execution_count": 40,
   "id": "0dd28994",
   "metadata": {},
   "outputs": [],
   "source": [
    "mean_groupby = tweets_df.groupby(['company_name','Series']).mean()"
   ]
  },
  {
   "cell_type": "code",
   "execution_count": 41,
   "id": "5edbe3bc",
   "metadata": {},
   "outputs": [],
   "source": [
    "count_groupby = tweets_df.groupby(['company_name','Series']).likes.count()"
   ]
  },
  {
   "cell_type": "code",
   "execution_count": 42,
   "id": "9355694f",
   "metadata": {},
   "outputs": [],
   "source": [
    "count_groupby = pd.DataFrame(count_groupby)\n",
    "count_groupby.columns = ['count']"
   ]
  },
  {
   "cell_type": "code",
   "execution_count": 43,
   "id": "0d527453",
   "metadata": {},
   "outputs": [],
   "source": [
    "count = tweets_df.groupby(['company_name','Series']).count()['date']"
   ]
  },
  {
   "cell_type": "code",
   "execution_count": 44,
   "id": "1582d00a",
   "metadata": {},
   "outputs": [
    {
     "data": {
      "text/html": [
       "<div>\n",
       "<style scoped>\n",
       "    .dataframe tbody tr th:only-of-type {\n",
       "        vertical-align: middle;\n",
       "    }\n",
       "\n",
       "    .dataframe tbody tr th {\n",
       "        vertical-align: top;\n",
       "    }\n",
       "\n",
       "    .dataframe thead th {\n",
       "        text-align: right;\n",
       "    }\n",
       "</style>\n",
       "<table border=\"1\" class=\"dataframe\">\n",
       "  <thead>\n",
       "    <tr style=\"text-align: right;\">\n",
       "      <th></th>\n",
       "      <th>Description</th>\n",
       "      <th>Market</th>\n",
       "      <th>Names</th>\n",
       "      <th>No_Stage_Amount</th>\n",
       "      <th>No_Stage_Date</th>\n",
       "      <th>Pitch</th>\n",
       "      <th>Seed_Amount</th>\n",
       "      <th>Seed_Date</th>\n",
       "      <th>Series_A_Amount</th>\n",
       "      <th>Series_A_Date</th>\n",
       "      <th>Series_B_Amount</th>\n",
       "      <th>Series_B_Date</th>\n",
       "      <th>Series_C_Amount</th>\n",
       "      <th>Series_C_Date</th>\n",
       "      <th>Series_D_Amount</th>\n",
       "      <th>Series_D_Date</th>\n",
       "      <th>Stage</th>\n",
       "    </tr>\n",
       "  </thead>\n",
       "  <tbody>\n",
       "    <tr>\n",
       "      <th>0</th>\n",
       "      <td>NaN</td>\n",
       "      <td>Cable</td>\n",
       "      <td>Epic-Sciences</td>\n",
       "      <td>NaN</td>\n",
       "      <td>NaN</td>\n",
       "      <td>NaN</td>\n",
       "      <td>NaN</td>\n",
       "      <td>NaN</td>\n",
       "      <td>NaN</td>\n",
       "      <td>NaN</td>\n",
       "      <td>$13,000,000</td>\n",
       "      <td>Nov 13, 2012</td>\n",
       "      <td>$30,000,000</td>\n",
       "      <td>Jul 30, 2014</td>\n",
       "      <td>NaN</td>\n",
       "      <td>NaN</td>\n",
       "      <td>Series C</td>\n",
       "    </tr>\n",
       "    <tr>\n",
       "      <th>1</th>\n",
       "      <td>NaN</td>\n",
       "      <td>All Students</td>\n",
       "      <td>Apreso-Classroom</td>\n",
       "      <td>NaN</td>\n",
       "      <td>NaN</td>\n",
       "      <td>NaN</td>\n",
       "      <td>NaN</td>\n",
       "      <td>NaN</td>\n",
       "      <td>NaN</td>\n",
       "      <td>NaN</td>\n",
       "      <td>$15,000,000</td>\n",
       "      <td>Oct 14, 2008</td>\n",
       "      <td>NaN</td>\n",
       "      <td>NaN</td>\n",
       "      <td>NaN</td>\n",
       "      <td>NaN</td>\n",
       "      <td>Series B</td>\n",
       "    </tr>\n",
       "    <tr>\n",
       "      <th>2</th>\n",
       "      <td>Visualead (视觉码) creates better interactions be...</td>\n",
       "      <td>Bridging Online and Offline</td>\n",
       "      <td>Visualead</td>\n",
       "      <td>NaN</td>\n",
       "      <td>NaN</td>\n",
       "      <td>Effective and Secure Offline to Mobile experie...</td>\n",
       "      <td>$750,000</td>\n",
       "      <td>Mar 25, 2012</td>\n",
       "      <td>$1,600,000</td>\n",
       "      <td>Aug 15, 2013</td>\n",
       "      <td>Unknown</td>\n",
       "      <td>Jan 20, 2015</td>\n",
       "      <td>NaN</td>\n",
       "      <td>NaN</td>\n",
       "      <td>NaN</td>\n",
       "      <td>NaN</td>\n",
       "      <td>Series B</td>\n",
       "    </tr>\n",
       "    <tr>\n",
       "      <th>3</th>\n",
       "      <td>NaN</td>\n",
       "      <td>Food Processing</td>\n",
       "      <td>Onshift</td>\n",
       "      <td>$7,000,000</td>\n",
       "      <td>Feb  3, 2014</td>\n",
       "      <td>NaN</td>\n",
       "      <td>NaN</td>\n",
       "      <td>NaN</td>\n",
       "      <td>NaN</td>\n",
       "      <td>NaN</td>\n",
       "      <td>$3,000,000</td>\n",
       "      <td>Feb  2, 2012</td>\n",
       "      <td>NaN</td>\n",
       "      <td>NaN</td>\n",
       "      <td>NaN</td>\n",
       "      <td>NaN</td>\n",
       "      <td>Series C</td>\n",
       "    </tr>\n",
       "    <tr>\n",
       "      <th>4</th>\n",
       "      <td>NaN</td>\n",
       "      <td>-</td>\n",
       "      <td>Xendex-Holding</td>\n",
       "      <td>NaN</td>\n",
       "      <td>NaN</td>\n",
       "      <td>NaN</td>\n",
       "      <td>NaN</td>\n",
       "      <td>NaN</td>\n",
       "      <td>Unknown</td>\n",
       "      <td>Jun 25, 2008</td>\n",
       "      <td>$3,500,000</td>\n",
       "      <td>Nov 30, 2009</td>\n",
       "      <td>NaN</td>\n",
       "      <td>NaN</td>\n",
       "      <td>NaN</td>\n",
       "      <td>NaN</td>\n",
       "      <td>Series A</td>\n",
       "    </tr>\n",
       "  </tbody>\n",
       "</table>\n",
       "</div>"
      ],
      "text/plain": [
       "                                         Description                       Market             Names No_Stage_Amount No_Stage_Date                                              Pitch Seed_Amount     Seed_Date Series_A_Amount Series_A_Date Series_B_Amount Series_B_Date Series_C_Amount Series_C_Date Series_D_Amount Series_D_Date     Stage\n",
       "0                                                NaN                        Cable     Epic-Sciences             NaN           NaN                                                NaN         NaN           NaN             NaN           NaN     $13,000,000  Nov 13, 2012     $30,000,000  Jul 30, 2014             NaN           NaN  Series C\n",
       "1                                                NaN                 All Students  Apreso-Classroom             NaN           NaN                                                NaN         NaN           NaN             NaN           NaN     $15,000,000  Oct 14, 2008             NaN           NaN             NaN           NaN  Series B\n",
       "2  Visualead (视觉码) creates better interactions be...  Bridging Online and Offline         Visualead             NaN           NaN  Effective and Secure Offline to Mobile experie...    $750,000  Mar 25, 2012      $1,600,000  Aug 15, 2013         Unknown  Jan 20, 2015             NaN           NaN             NaN           NaN  Series B\n",
       "3                                                NaN              Food Processing           Onshift      $7,000,000  Feb  3, 2014                                                NaN         NaN           NaN             NaN           NaN      $3,000,000  Feb  2, 2012             NaN           NaN             NaN           NaN  Series C\n",
       "4                                                NaN                            -    Xendex-Holding             NaN           NaN                                                NaN         NaN           NaN         Unknown  Jun 25, 2008      $3,500,000  Nov 30, 2009             NaN           NaN             NaN           NaN  Series A"
      ]
     },
     "execution_count": 44,
     "metadata": {},
     "output_type": "execute_result"
    }
   ],
   "source": [
    "funding_csv = pd.read_csv('funding.csv')\n",
    "funding_csv.head()"
   ]
  },
  {
   "cell_type": "code",
   "execution_count": null,
   "id": "0e1338f2",
   "metadata": {},
   "outputs": [],
   "source": []
  }
 ],
 "metadata": {
  "kernelspec": {
   "display_name": "Python 3 (ipykernel)",
   "language": "python",
   "name": "python3"
  },
  "language_info": {
   "codemirror_mode": {
    "name": "ipython",
    "version": 3
   },
   "file_extension": ".py",
   "mimetype": "text/x-python",
   "name": "python",
   "nbconvert_exporter": "python",
   "pygments_lexer": "ipython3",
   "version": "3.9.13"
  }
 },
 "nbformat": 4,
 "nbformat_minor": 5
}
