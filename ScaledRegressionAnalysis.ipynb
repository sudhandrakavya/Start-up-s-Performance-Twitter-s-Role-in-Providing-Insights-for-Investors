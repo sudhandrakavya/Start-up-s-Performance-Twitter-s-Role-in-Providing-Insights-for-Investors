{
 "cells": [
  {
   "cell_type": "markdown",
   "id": "97f3128a",
   "metadata": {},
   "source": [
    "# Scaled Regression Analysis"
   ]
  },
  {
   "cell_type": "code",
   "execution_count": null,
   "id": "a09962b4",
   "metadata": {},
   "outputs": [],
   "source": [
    "%matplotlib inline\n",
    "import pandas as pd\n",
    "import numpy as np\n",
    "# from sklearn.cross_validation import train_test_split\n",
    "from sklearn.model_selection import train_test_split\n",
    "import statsmodels.api as sm\n",
    "from statsmodels.formula.api import glm, ols\n",
    "from sklearn.linear_model import LinearRegression\n",
    "import matplotlib.pyplot as plt\n",
    "from sklearn.metrics import mean_squared_error\n",
    "from sklearn import linear_model\n",
    "from sklearn.metrics import r2_score\n",
    "# from sklearn.cross_validation import KFold\n",
    "from sklearn.model_selection import KFold\n",
    "from sklearn.linear_model import Ridge\n",
    "from sklearn.linear_model import Lasso"
   ]
  },
  {
   "cell_type": "code",
   "execution_count": null,
   "id": "83b95726",
   "metadata": {},
   "outputs": [],
   "source": [
    "regress_data = pd.read_csv(open(\"all_features_scaled.csv\", 'r'), encoding='utf-8', engine='c')"
   ]
  },
  {
   "cell_type": "code",
   "execution_count": null,
   "id": "c4a67c11",
   "metadata": {},
   "outputs": [],
   "source": [
    "print(regress_data)"
   ]
  },
  {
   "cell_type": "code",
   "execution_count": null,
   "id": "de4d60ef",
   "metadata": {},
   "outputs": [],
   "source": [
    "regress_data = regress_data.drop('is_Series_A_scaled', 1)\n",
    "regress_data = regress_data.drop('is_Series_B_scaled', 1)\n",
    "regress_data = regress_data.drop('is_Series_C_scaled', 1)\n",
    "regress_data = regress_data.drop('is_Series_D_scaled', 1)\n",
    "regress_data['Series'] = [val[1:] for val in list(regress_data['Series'])]\n",
    "regress_data['i_Series_A'] = 1 * (regress_data.Series == 'Series_A')\n",
    "regress_data['i_Series_B'] = 1 * (regress_data.Series == 'Series_B')\n",
    "regress_data['i_Series_C'] = 1 * (regress_data.Series == 'Series_C')\n",
    "regress_data['i_Series_D'] = 1 * (regress_data.Series == 'Series_D')\n",
    "regress_data = regress_data.iloc[:,48:]\n",
    "regress_data = regress_data.replace([np.inf, -np.inf], 0)\n",
    "regress_data.fillna(0, inplace=True)"
   ]
  },
  {
   "cell_type": "code",
   "execution_count": null,
   "id": "f5bbc40f",
   "metadata": {},
   "outputs": [],
   "source": [
    "# Break it into test and train\n",
    "itrain, itest = train_test_split(range(regress_data.shape[0]), train_size=0.9)\n",
    "mask=np.ones(regress_data.shape[0], dtype='int')\n",
    "mask[itrain]=1\n",
    "mask[itest]=0\n",
    "mask=(mask==1)\n",
    "regress_train = regress_data[mask]\n",
    "regress_test = regress_data[~mask]\n",
    "\n",
    "# Break it into series A, series B, series C, series D\n",
    "regress_test_A = regress_test[regress_test['i_Series_A'] == 1]\n",
    "regress_train_A = regress_train[regress_train['i_Series_A'] == 1]\n",
    "regress_test_B = regress_test[regress_test['i_Series_B'] == 1]\n",
    "regress_train_B = regress_train[regress_train['i_Series_B'] == 1]\n",
    "regress_test_C = regress_test[regress_test['i_Series_C'] == 1]\n",
    "regress_train_C = regress_train[regress_train['i_Series_C'] == 1]\n",
    "regress_test_D = regress_test[regress_test['i_Series_D'] == 1]\n",
    "regress_train_D = regress_train[regress_train['i_Series_D'] == 1]\n",
    "\n",
    "regress_train.head()"
   ]
  },
  {
   "cell_type": "code",
   "execution_count": null,
   "id": "01c77442",
   "metadata": {},
   "outputs": [],
   "source": [
    "# Create stats for each of the funding rounds\n",
    "def find_stats(funding, label):\n",
    "    print('------------------------------------')\n",
    "    print('Round: ' + label)\n",
    "    amounts = funding['Series_Amount_scaled']\n",
    "    print('Mean ' + str(np.mean(amounts)))\n",
    "    print('StDev ' + str(np.std(amounts)))  \n",
    "    \n",
    "# Helps visualize the log of the funding rounds\n",
    "def create_log_plot(regress_train_A, regress_train_B, regress_train_C, regress_train_D):\n",
    "    fig, axes = plt.subplots(nrows=2, ncols=2, figsize=(15,10))\n",
    "    fig.tight_layout()\n",
    "    round_title = ['Series A Funding Amounts', 'Series B Funding Amounts', 'Series C Funding Amounts', 'Series D Funding Amounts']\n",
    "    rounds = [regress_train_A, regress_train_B, regress_train_C, regress_train_D]\n",
    "    for ax, i in zip(axes.ravel(), range(len(rounds))):\n",
    "        funding = np.log((list(rounds[i]['Series_Amount_scaled'])))\n",
    "        ax.hist(funding, color='green', alpha=0.2)\n",
    "        ax.set_title(round_title[i])\n",
    "\n",
    "# Visualizes the residuals of the funding rounds\n",
    "def plot_residuals(errors):\n",
    "    fig, axes = plt.subplots(nrows=1, ncols=1, figsize=(7,7))\n",
    "    fig.tight_layout()\n",
    "    axes.hist(errors, color='green', alpha=0.2)\n",
    "    axes.set_title('Residual Analysis')"
   ]
  },
  {
   "cell_type": "code",
   "execution_count": null,
   "id": "b6de1896",
   "metadata": {},
   "outputs": [],
   "source": [
    " create_log_plot(regress_train_A, regress_train_B, regress_train_C, regress_train_D)"
   ]
  },
  {
   "cell_type": "code",
   "execution_count": null,
   "id": "4ceccb14",
   "metadata": {},
   "outputs": [],
   "source": [
    "features = list(regress_train_D.columns)\n",
    "#features.remove('Market')\n",
    "features.remove('Series_Amount_scaled')\n",
    "\n",
    "X_train = np.asmatrix(regress_train[features])\n",
    "X_test = np.asmatrix(regress_test[features])\n",
    "y_train = np.asmatrix(regress_train['Series_Amount_scaled'].apply(lambda val: val)).T\n",
    "y_test = np.asmatrix(regress_test['Series_Amount_scaled'].apply(lambda val: val)).T\n"
   ]
  },
  {
   "cell_type": "markdown",
   "id": "c9ce0710",
   "metadata": {},
   "source": [
    "# Scaled Ridge Regression"
   ]
  },
  {
   "cell_type": "code",
   "execution_count": null,
   "id": "0a38fa3d",
   "metadata": {},
   "outputs": [],
   "source": [
    "vdict = {}\n",
    "rdict = {}\n",
    "kf = KFold()\n",
    "for a in [0.001, 0.01, 0.1, 1, 10, 100, 1000, 10000]:\n",
    "    for cv_train, cv_test in kf.split(y_train):\n",
    "        lin_model_r = Ridge(alpha=a)\n",
    "        lin_model_r.fit(X_train[cv_train], y_train[cv_train])\n",
    "        y_pred = np.asmatrix(lin_model_r.predict(X_train[cv_test])).T\n",
    "        mse = (mean_squared_error(y_train[cv_test], y_pred.T)**(0.5))\n",
    "        vdict[a] = mse\n",
    "        rdict[a] = lin_model_r\n",
    "        \n",
    "best_a = min(vdict, key=vdict.get)\n",
    "best_ridge_model =rdict[best_a]\n",
    "\n",
    "print('Cross validation MSE values: ' + str(vdict))\n",
    "print('Best a from cross validation: ' + str(best_a))"
   ]
  },
  {
   "cell_type": "code",
   "execution_count": null,
   "id": "889b8223",
   "metadata": {},
   "outputs": [],
   "source": [
    "len(y_pred.T)"
   ]
  },
  {
   "cell_type": "code",
   "execution_count": null,
   "id": "4c906700",
   "metadata": {},
   "outputs": [],
   "source": [
    "y_pred = np.asmatrix(best_ridge_model.predict(X_test)).T\n",
    "mse = (mean_squared_error(y_test, y_pred.T)**(0.5))\n",
    "baseline_mean = np.log(np.asmatrix(np.mean(regress_test['Series_Amount_scaled']) * np.ones(y_test.shape[0]))).T\n",
    "\n",
    "print('RMSE for Ridge Regression: ' + str(mse))\n",
    "print('Baseline by predicting averages RMSE: ' + str(mean_squared_error(y_test, baseline_mean)**(0.5)))"
   ]
  },
  {
   "cell_type": "code",
   "execution_count": null,
   "id": "d9fe3f18",
   "metadata": {},
   "outputs": [],
   "source": [
    "plot_residuals(y_test-y_pred.T)\n",
    "print('R Squared: ' + str(r2_score(y_test, y_pred.T)))"
   ]
  },
  {
   "cell_type": "markdown",
   "id": "0e3230b8",
   "metadata": {},
   "source": [
    "# Scaled Lasso Regression"
   ]
  },
  {
   "cell_type": "code",
   "execution_count": null,
   "id": "0ae71b03",
   "metadata": {},
   "outputs": [],
   "source": [
    "vdict = {}\n",
    "rdict = {}\n",
    "kf = KFold()\n",
    "for a in [0.001, 0.01, 0.1, 1, 10, 100, 1000, 10000]:\n",
    "    for cv_train, cv_test in kf.split(y_train):\n",
    "        lin_model_r = Lasso(alpha=a)\n",
    "        lin_model_r.fit(X_train[cv_train], y_train[cv_train])\n",
    "        y_pred = np.asmatrix(lin_model_r.predict(X_train[cv_test])).T\n",
    "        mse = (mean_squared_error(y_train[cv_test], y_pred)**(0.5))\n",
    "        vdict[a] = mse\n",
    "        rdict[a] = lin_model_r\n",
    "        \n",
    "best_a = min(vdict, key=vdict.get)\n",
    "best_lasso_model =rdict[best_a]\n",
    "\n",
    "print('Cross validation MSE values: ' + str(vdict))\n",
    "print('Best a from cross validation: ' + str(best_a))"
   ]
  },
  {
   "cell_type": "code",
   "execution_count": null,
   "id": "79b06493",
   "metadata": {},
   "outputs": [],
   "source": [
    "y_pred = np.asmatrix(best_lasso_model.predict(X_test)).T\n",
    "mse = (mean_squared_error(y_test, y_pred)**(0.5))\n",
    "baseline_mean = np.log(np.asmatrix(np.mean(regress_test['Series_Amount_scaled']) * np.ones(y_test.shape[0]))).T\n",
    "\n",
    "print('RMSE for Lasso Regression: ' + str(mse))\n",
    "print('Baseline by predicting averages RMSE: ' + str(mean_squared_error(y_test, baseline_mean)**(0.5)))"
   ]
  },
  {
   "cell_type": "code",
   "execution_count": null,
   "id": "6c338323",
   "metadata": {},
   "outputs": [],
   "source": [
    "plot_residuals(y_test-y_pred)\n",
    "print('R Squared: ' + str(r2_score(y_test, y_pred)))"
   ]
  },
  {
   "cell_type": "code",
   "execution_count": null,
   "id": "d4d5b93f",
   "metadata": {},
   "outputs": [],
   "source": []
  }
 ],
 "metadata": {
  "kernelspec": {
   "display_name": "Python 3 (ipykernel)",
   "language": "python",
   "name": "python3"
  },
  "language_info": {
   "codemirror_mode": {
    "name": "ipython",
    "version": 3
   },
   "file_extension": ".py",
   "mimetype": "text/x-python",
   "name": "python",
   "nbconvert_exporter": "python",
   "pygments_lexer": "ipython3",
   "version": "3.9.13"
  }
 },
 "nbformat": 4,
 "nbformat_minor": 5
}
